{
  "cells": [
    {
      "cell_type": "markdown",
      "metadata": {
        "id": "up2NRZfBYnNg"
      },
      "source": [
        "# Load the DNN model\n"
      ]
    },
    {
      "cell_type": "code",
      "execution_count": 11,
      "metadata": {
        "id": "wsN0VwGEYqRP"
      },
      "outputs": [],
      "source": [
        "from tensorflow.keras.models import load_model\n",
        "new_model = load_model('./mnist_cnn.h5')"
      ]
    },
    {
      "cell_type": "markdown",
      "metadata": {
        "id": "pg0vCLzpY_-E"
      },
      "source": [
        "## Data preparation"
      ]
    },
    {
      "cell_type": "code",
      "execution_count": 12,
      "metadata": {
        "id": "cb8yhiZXZCCl"
      },
      "outputs": [],
      "source": [
        "from skimage import io, transform\n",
        "import numpy as np\n",
        "import matplotlib.pyplot as plt\n",
        "import tensorflow as tf"
      ]
    },
    {
      "cell_type": "code",
      "execution_count": 13,
      "metadata": {
        "colab": {
          "base_uri": "https://localhost:8080/"
        },
        "id": "JLGBtbOQZWlu",
        "outputId": "ad97db6f-3a14-49e9-860a-a2237b0ded66"
      },
      "outputs": [
        {
          "name": "stdout",
          "output_type": "stream",
          "text": [
            "[[0.00000000e+00 0.00000000e+00 0.00000000e+00 0.00000000e+00\n",
            "  0.00000000e+00 0.00000000e+00 0.00000000e+00 0.00000000e+00\n",
            "  0.00000000e+00 0.00000000e+00 0.00000000e+00 0.00000000e+00\n",
            "  0.00000000e+00 0.00000000e+00 0.00000000e+00 0.00000000e+00\n",
            "  0.00000000e+00 0.00000000e+00 0.00000000e+00 0.00000000e+00\n",
            "  0.00000000e+00 0.00000000e+00 0.00000000e+00 0.00000000e+00\n",
            "  0.00000000e+00 0.00000000e+00 0.00000000e+00 0.00000000e+00]\n",
            " [0.00000000e+00 0.00000000e+00 0.00000000e+00 0.00000000e+00\n",
            "  0.00000000e+00 0.00000000e+00 0.00000000e+00 0.00000000e+00\n",
            "  0.00000000e+00 0.00000000e+00 0.00000000e+00 0.00000000e+00\n",
            "  0.00000000e+00 0.00000000e+00 0.00000000e+00 0.00000000e+00\n",
            "  0.00000000e+00 0.00000000e+00 0.00000000e+00 0.00000000e+00\n",
            "  0.00000000e+00 0.00000000e+00 0.00000000e+00 0.00000000e+00\n",
            "  0.00000000e+00 0.00000000e+00 0.00000000e+00 0.00000000e+00]\n",
            " [0.00000000e+00 0.00000000e+00 0.00000000e+00 0.00000000e+00\n",
            "  0.00000000e+00 0.00000000e+00 0.00000000e+00 0.00000000e+00\n",
            "  0.00000000e+00 0.00000000e+00 0.00000000e+00 0.00000000e+00\n",
            "  0.00000000e+00 0.00000000e+00 0.00000000e+00 0.00000000e+00\n",
            "  0.00000000e+00 0.00000000e+00 0.00000000e+00 0.00000000e+00\n",
            "  0.00000000e+00 0.00000000e+00 0.00000000e+00 0.00000000e+00\n",
            "  0.00000000e+00 0.00000000e+00 0.00000000e+00 0.00000000e+00]\n",
            " [0.00000000e+00 0.00000000e+00 0.00000000e+00 0.00000000e+00\n",
            "  0.00000000e+00 0.00000000e+00 0.00000000e+00 0.00000000e+00\n",
            "  0.00000000e+00 0.00000000e+00 0.00000000e+00 0.00000000e+00\n",
            "  0.00000000e+00 0.00000000e+00 0.00000000e+00 0.00000000e+00\n",
            "  0.00000000e+00 0.00000000e+00 0.00000000e+00 0.00000000e+00\n",
            "  0.00000000e+00 0.00000000e+00 0.00000000e+00 0.00000000e+00\n",
            "  0.00000000e+00 0.00000000e+00 0.00000000e+00 0.00000000e+00]\n",
            " [0.00000000e+00 0.00000000e+00 1.25019761e-06 8.50367689e-04\n",
            "  4.45988382e-03 8.83400851e-04 1.65148375e-06 0.00000000e+00\n",
            "  0.00000000e+00 0.00000000e+00 0.00000000e+00 0.00000000e+00\n",
            "  0.00000000e+00 0.00000000e+00 0.00000000e+00 0.00000000e+00\n",
            "  0.00000000e+00 0.00000000e+00 0.00000000e+00 0.00000000e+00\n",
            "  0.00000000e+00 0.00000000e+00 0.00000000e+00 0.00000000e+00\n",
            "  0.00000000e+00 0.00000000e+00 0.00000000e+00 0.00000000e+00]\n",
            " [0.00000000e+00 0.00000000e+00 3.55585376e-04 1.25670029e-01\n",
            "  4.70479110e-01 1.54572878e-01 1.28948979e-03 0.00000000e+00\n",
            "  0.00000000e+00 0.00000000e+00 0.00000000e+00 0.00000000e+00\n",
            "  0.00000000e+00 0.00000000e+00 0.00000000e+00 0.00000000e+00\n",
            "  0.00000000e+00 0.00000000e+00 0.00000000e+00 0.00000000e+00\n",
            "  0.00000000e+00 0.00000000e+00 0.00000000e+00 0.00000000e+00\n",
            "  0.00000000e+00 0.00000000e+00 0.00000000e+00 0.00000000e+00]\n",
            " [0.00000000e+00 0.00000000e+00 1.77308624e-03 3.57747965e-01\n",
            "  9.80379035e-01 6.25303261e-01 1.63885647e-02 0.00000000e+00\n",
            "  0.00000000e+00 0.00000000e+00 0.00000000e+00 0.00000000e+00\n",
            "  0.00000000e+00 0.00000000e+00 0.00000000e+00 0.00000000e+00\n",
            "  0.00000000e+00 0.00000000e+00 0.00000000e+00 0.00000000e+00\n",
            "  0.00000000e+00 0.00000000e+00 0.00000000e+00 0.00000000e+00\n",
            "  0.00000000e+00 0.00000000e+00 0.00000000e+00 0.00000000e+00]\n",
            " [0.00000000e+00 0.00000000e+00 2.46319104e-03 3.85067656e-01\n",
            "  9.88376068e-01 6.31273292e-01 1.31928565e-02 0.00000000e+00\n",
            "  0.00000000e+00 0.00000000e+00 0.00000000e+00 0.00000000e+00\n",
            "  0.00000000e+00 0.00000000e+00 0.00000000e+00 0.00000000e+00\n",
            "  0.00000000e+00 0.00000000e+00 0.00000000e+00 0.00000000e+00\n",
            "  0.00000000e+00 0.00000000e+00 0.00000000e+00 0.00000000e+00\n",
            "  0.00000000e+00 0.00000000e+00 0.00000000e+00 0.00000000e+00]\n",
            " [0.00000000e+00 0.00000000e+00 9.00775835e-04 2.83413650e-01\n",
            "  9.75075740e-01 7.97334787e-01 3.95498457e-02 0.00000000e+00\n",
            "  0.00000000e+00 0.00000000e+00 0.00000000e+00 0.00000000e+00\n",
            "  0.00000000e+00 0.00000000e+00 0.00000000e+00 0.00000000e+00\n",
            "  0.00000000e+00 0.00000000e+00 0.00000000e+00 0.00000000e+00\n",
            "  0.00000000e+00 0.00000000e+00 0.00000000e+00 0.00000000e+00\n",
            "  0.00000000e+00 0.00000000e+00 0.00000000e+00 0.00000000e+00]\n",
            " [0.00000000e+00 0.00000000e+00 7.75224484e-04 2.62432569e-01\n",
            "  9.70857298e-01 8.18496808e-01 4.29088283e-02 0.00000000e+00\n",
            "  0.00000000e+00 0.00000000e+00 0.00000000e+00 1.14462013e-07\n",
            "  9.60013926e-05 5.43422275e-04 1.03711287e-04 1.30245351e-07\n",
            "  0.00000000e+00 0.00000000e+00 0.00000000e+00 0.00000000e+00\n",
            "  0.00000000e+00 0.00000000e+00 0.00000000e+00 0.00000000e+00\n",
            "  0.00000000e+00 0.00000000e+00 0.00000000e+00 0.00000000e+00]\n",
            " [0.00000000e+00 0.00000000e+00 1.23338519e-03 3.41112324e-01\n",
            "  9.87295941e-01 8.18496808e-01 4.29088283e-02 0.00000000e+00\n",
            "  0.00000000e+00 0.00000000e+00 0.00000000e+00 1.37463450e-04\n",
            "  5.69364841e-02 2.41469966e-01 6.89301177e-02 5.46973361e-04\n",
            "  4.83888041e-09 0.00000000e+00 0.00000000e+00 0.00000000e+00\n",
            "  0.00000000e+00 0.00000000e+00 0.00000000e+00 0.00000000e+00\n",
            "  0.00000000e+00 0.00000000e+00 0.00000000e+00 0.00000000e+00]\n",
            " [0.00000000e+00 0.00000000e+00 1.25834638e-03 3.45398899e-01\n",
            "  9.88087367e-01 8.02906394e-01 4.04342097e-02 0.00000000e+00\n",
            "  0.00000000e+00 0.00000000e+00 0.00000000e+00 1.08981662e-03\n",
            "  3.14032827e-01 9.51555649e-01 6.41331264e-01 3.47569513e-02\n",
            "  1.14426253e-05 0.00000000e+00 0.00000000e+00 0.00000000e+00\n",
            "  0.00000000e+00 0.00000000e+00 0.00000000e+00 0.00000000e+00\n",
            "  0.00000000e+00 0.00000000e+00 0.00000000e+00 0.00000000e+00]\n",
            " [0.00000000e+00 0.00000000e+00 1.04383689e-03 3.08561269e-01\n",
            "  9.80036280e-01 7.49842762e-01 3.20115828e-02 0.00000000e+00\n",
            "  0.00000000e+00 0.00000000e+00 0.00000000e+00 6.54948065e-04\n",
            "  2.38751055e-01 9.61938807e-01 9.42073977e-01 1.91673490e-01\n",
            "  5.78293253e-04 0.00000000e+00 0.00000000e+00 0.00000000e+00\n",
            "  0.00000000e+00 0.00000000e+00 0.00000000e+00 0.00000000e+00\n",
            "  0.00000000e+00 0.00000000e+00 0.00000000e+00 0.00000000e+00]\n",
            " [0.00000000e+00 0.00000000e+00 3.28846433e-04 1.85729566e-01\n",
            "  9.54676625e-01 8.03499961e-01 4.09155970e-02 5.07236582e-07\n",
            "  0.00000000e+00 0.00000000e+00 0.00000000e+00 3.36620700e-05\n",
            "  7.05289737e-02 8.50939680e-01 9.93917140e-01 5.39211721e-01\n",
            "  1.01264960e-02 4.98026108e-07 0.00000000e+00 0.00000000e+00\n",
            "  0.00000000e+00 0.00000000e+00 0.00000000e+00 0.00000000e+00\n",
            "  0.00000000e+00 0.00000000e+00 0.00000000e+00 0.00000000e+00]\n",
            " [0.00000000e+00 0.00000000e+00 9.60674709e-05 1.32336685e-01\n",
            "  9.28871387e-01 8.78331451e-01 9.14466153e-02 5.11441433e-05\n",
            "  0.00000000e+00 0.00000000e+00 0.00000000e+00 6.54417214e-08\n",
            "  1.64482958e-02 5.98091935e-01 9.95186980e-01 8.50941298e-01\n",
            "  1.02678172e-01 1.74288551e-04 0.00000000e+00 0.00000000e+00\n",
            "  0.00000000e+00 0.00000000e+00 0.00000000e+00 0.00000000e+00\n",
            "  0.00000000e+00 0.00000000e+00 0.00000000e+00 0.00000000e+00]\n",
            " [0.00000000e+00 0.00000000e+00 1.02455141e-04 1.38594934e-01\n",
            "  9.35919538e-01 9.09737063e-01 1.16900597e-01 7.79633499e-05\n",
            "  0.00000000e+00 0.00000000e+00 0.00000000e+00 0.00000000e+00\n",
            "  6.71057257e-04 2.06022911e-01 9.50703834e-01 9.84298788e-01\n",
            "  4.41044189e-01 6.96460383e-03 0.00000000e+00 0.00000000e+00\n",
            "  0.00000000e+00 0.00000000e+00 0.00000000e+00 0.00000000e+00\n",
            "  0.00000000e+00 0.00000000e+00 0.00000000e+00 0.00000000e+00]\n",
            " [0.00000000e+00 0.00000000e+00 2.96334536e-05 7.24492382e-02\n",
            "  8.62157783e-01 9.37730839e-01 1.43656147e-01 7.95846697e-04\n",
            "  8.29554825e-03 1.66902453e-02 5.48669944e-03 8.90138509e-03\n",
            "  5.57591551e-03 5.10536997e-02 7.94481346e-01 9.98642564e-01\n",
            "  7.61685064e-01 3.52228101e-02 2.04940552e-06 0.00000000e+00\n",
            "  0.00000000e+00 0.00000000e+00 0.00000000e+00 0.00000000e+00\n",
            "  0.00000000e+00 0.00000000e+00 0.00000000e+00 0.00000000e+00]\n",
            " [0.00000000e+00 0.00000000e+00 6.86340003e-08 3.44044633e-02\n",
            "  7.67030404e-01 9.62218381e-01 2.55121375e-01 1.83348975e-01\n",
            "  5.13586932e-01 6.29345698e-01 5.06268829e-01 5.43764301e-01\n",
            "  4.85988990e-01 3.29194304e-01 6.17499759e-01 9.95045985e-01\n",
            "  8.84817179e-01 1.03164069e-01 7.81582327e-05 0.00000000e+00\n",
            "  0.00000000e+00 0.00000000e+00 0.00000000e+00 0.00000000e+00\n",
            "  0.00000000e+00 0.00000000e+00 0.00000000e+00 0.00000000e+00]\n",
            " [0.00000000e+00 0.00000000e+00 0.00000000e+00 2.11728966e-02\n",
            "  6.90255913e-01 9.81454403e-01 7.33851999e-01 9.12684113e-01\n",
            "  9.88191181e-01 9.84008357e-01 9.90170821e-01 9.90959272e-01\n",
            "  9.89451423e-01 9.78517646e-01 9.83377672e-01 9.99720144e-01\n",
            "  9.47785052e-01 2.04227192e-01 4.73720356e-04 0.00000000e+00\n",
            "  0.00000000e+00 0.00000000e+00 0.00000000e+00 0.00000000e+00\n",
            "  0.00000000e+00 0.00000000e+00 0.00000000e+00 0.00000000e+00]\n",
            " [0.00000000e+00 0.00000000e+00 0.00000000e+00 9.08881571e-03\n",
            "  5.99158492e-01 9.97528203e-01 9.95464957e-01 9.28740397e-01\n",
            "  6.22688322e-01 4.07929806e-01 4.98793171e-01 5.00289112e-01\n",
            "  5.80952295e-01 7.36582677e-01 8.02865715e-01 9.64862391e-01\n",
            "  9.50259295e-01 2.11713128e-01 5.11782922e-04 0.00000000e+00\n",
            "  0.00000000e+00 0.00000000e+00 0.00000000e+00 0.00000000e+00\n",
            "  0.00000000e+00 0.00000000e+00 0.00000000e+00 0.00000000e+00]\n",
            " [0.00000000e+00 0.00000000e+00 0.00000000e+00 1.89615269e-03\n",
            "  3.23387876e-01 8.89310495e-01 7.79602151e-01 2.23312168e-01\n",
            "  2.55720105e-02 3.36947615e-03 4.89438366e-03 4.94243333e-03\n",
            "  1.22842917e-02 2.65375713e-02 6.53886117e-02 6.70103950e-01\n",
            "  9.80872547e-01 3.54693810e-01 2.33552309e-03 0.00000000e+00\n",
            "  0.00000000e+00 0.00000000e+00 0.00000000e+00 0.00000000e+00\n",
            "  0.00000000e+00 0.00000000e+00 0.00000000e+00 0.00000000e+00]\n",
            " [0.00000000e+00 0.00000000e+00 0.00000000e+00 4.75630475e-05\n",
            "  2.15269296e-02 1.02954299e-01 9.45336785e-02 2.50415295e-03\n",
            "  9.55147567e-06 3.18657967e-09 0.00000000e+00 0.00000000e+00\n",
            "  0.00000000e+00 6.76884313e-08 3.15139701e-03 4.31858070e-01\n",
            "  9.87234973e-01 5.48257108e-01 8.77644286e-03 0.00000000e+00\n",
            "  0.00000000e+00 0.00000000e+00 0.00000000e+00 0.00000000e+00\n",
            "  0.00000000e+00 0.00000000e+00 0.00000000e+00 0.00000000e+00]\n",
            " [0.00000000e+00 0.00000000e+00 0.00000000e+00 5.78305204e-09\n",
            "  7.17575298e-06 6.82417241e-05 1.31807857e-04 9.49174887e-07\n",
            "  0.00000000e+00 0.00000000e+00 0.00000000e+00 0.00000000e+00\n",
            "  0.00000000e+00 0.00000000e+00 7.12068944e-04 2.52185170e-01\n",
            "  9.66843558e-01 7.40291141e-01 3.11074274e-02 1.62539058e-06\n",
            "  0.00000000e+00 0.00000000e+00 0.00000000e+00 0.00000000e+00\n",
            "  0.00000000e+00 0.00000000e+00 0.00000000e+00 0.00000000e+00]\n",
            " [0.00000000e+00 0.00000000e+00 0.00000000e+00 0.00000000e+00\n",
            "  0.00000000e+00 0.00000000e+00 0.00000000e+00 0.00000000e+00\n",
            "  0.00000000e+00 0.00000000e+00 0.00000000e+00 0.00000000e+00\n",
            "  0.00000000e+00 0.00000000e+00 1.17883798e-04 1.32454102e-01\n",
            "  9.12507603e-01 8.70298832e-01 9.30075337e-02 6.34080603e-05\n",
            "  0.00000000e+00 0.00000000e+00 0.00000000e+00 0.00000000e+00\n",
            "  0.00000000e+00 0.00000000e+00 0.00000000e+00 0.00000000e+00]\n",
            " [0.00000000e+00 0.00000000e+00 0.00000000e+00 0.00000000e+00\n",
            "  0.00000000e+00 0.00000000e+00 0.00000000e+00 0.00000000e+00\n",
            "  0.00000000e+00 0.00000000e+00 0.00000000e+00 0.00000000e+00\n",
            "  0.00000000e+00 0.00000000e+00 5.03871519e-06 4.32827669e-02\n",
            "  7.69541276e-01 9.58042441e-01 2.58073889e-01 1.61402243e-03\n",
            "  0.00000000e+00 0.00000000e+00 0.00000000e+00 0.00000000e+00\n",
            "  0.00000000e+00 0.00000000e+00 0.00000000e+00 0.00000000e+00]\n",
            " [0.00000000e+00 0.00000000e+00 0.00000000e+00 0.00000000e+00\n",
            "  0.00000000e+00 0.00000000e+00 0.00000000e+00 0.00000000e+00\n",
            "  0.00000000e+00 0.00000000e+00 0.00000000e+00 0.00000000e+00\n",
            "  0.00000000e+00 0.00000000e+00 3.90181987e-08 6.33859250e-03\n",
            "  4.43374687e-01 9.80494417e-01 6.52596709e-01 2.11038114e-02\n",
            "  0.00000000e+00 0.00000000e+00 0.00000000e+00 0.00000000e+00\n",
            "  0.00000000e+00 0.00000000e+00 0.00000000e+00 0.00000000e+00]\n",
            " [0.00000000e+00 0.00000000e+00 0.00000000e+00 0.00000000e+00\n",
            "  0.00000000e+00 0.00000000e+00 0.00000000e+00 0.00000000e+00\n",
            "  0.00000000e+00 0.00000000e+00 0.00000000e+00 0.00000000e+00\n",
            "  0.00000000e+00 0.00000000e+00 0.00000000e+00 1.91667679e-04\n",
            "  1.05222812e-01 7.85589798e-01 6.25600197e-01 2.10304841e-02\n",
            "  0.00000000e+00 0.00000000e+00 0.00000000e+00 0.00000000e+00\n",
            "  0.00000000e+00 0.00000000e+00 0.00000000e+00 0.00000000e+00]\n",
            " [0.00000000e+00 0.00000000e+00 0.00000000e+00 0.00000000e+00\n",
            "  0.00000000e+00 0.00000000e+00 0.00000000e+00 0.00000000e+00\n",
            "  0.00000000e+00 0.00000000e+00 0.00000000e+00 0.00000000e+00\n",
            "  0.00000000e+00 0.00000000e+00 0.00000000e+00 8.52374840e-07\n",
            "  3.82511385e-03 7.49314233e-02 5.65875174e-02 1.12730713e-03\n",
            "  0.00000000e+00 0.00000000e+00 0.00000000e+00 0.00000000e+00\n",
            "  0.00000000e+00 0.00000000e+00 0.00000000e+00 0.00000000e+00]]\n"
          ]
        }
      ],
      "source": [
        "images =['./im1.bmp', './im2.bmp','./im3.bmp','./im4.bmp']\n",
        "w=28\n",
        "h=28\n",
        "def read_one_image(path):\n",
        "  img = io.imread(path)\n",
        "  img = transform.resize(img,(w,h))\n",
        "  return (1-img) \n",
        "image = np.array([read_one_image(images[0]) , read_one_image(images[1]) ,read_one_image(images[2]) ,read_one_image(images[3]) ])\n",
        "print(image[0])"
      ]
    },
    {
      "cell_type": "markdown",
      "metadata": {
        "id": "0zGkPIdXbSMc"
      },
      "source": [
        "## Visualize the prediction result"
      ]
    },
    {
      "cell_type": "code",
      "execution_count": 14,
      "metadata": {
        "colab": {
          "base_uri": "https://localhost:8080/",
          "height": 52
        },
        "id": "zFGK83fmbXcp",
        "outputId": "438dda59-2117-48dd-ba5f-fcd4d1702bb2"
      },
      "outputs": [
        {
          "name": "stdout",
          "output_type": "stream",
          "text": [
            "1/1 [==============================] - 0s 53ms/step\n",
            "[4 2 0 7]\n"
          ]
        },
        {
          "name": "stderr",
          "output_type": "stream",
          "text": [
            "2022-12-06 16:28:52.242499: I tensorflow/core/grappler/optimizers/custom_graph_optimizer_registry.cc:113] Plugin optimizer for device_type GPU is enabled.\n"
          ]
        },
        {
          "data": {
            "text/plain": [
              "<Figure size 640x480 with 0 Axes>"
            ]
          },
          "metadata": {},
          "output_type": "display_data"
        }
      ],
      "source": [
        "plt.figure()\n",
        "pred= np.argmax(new_model.predict(image), axis=1)\n",
        "print(pred)"
      ]
    },
    {
      "cell_type": "code",
      "execution_count": 15,
      "metadata": {
        "colab": {
          "base_uri": "https://localhost:8080/",
          "height": 264
        },
        "id": "HofwYAWtb5CX",
        "outputId": "7af61fa4-2ad4-4c98-e363-4f59d0a8274c"
      },
      "outputs": [
        {
          "data": {
            "image/png": "[encoded data removed]",
            "text/plain": [
              "<Figure size 640x480 with 4 Axes>"
            ]
          },
          "metadata": {},
          "output_type": "display_data"
        }
      ],
      "source": [
        "for i in range(4):\n",
        "  plt.subplot(2,2,i+1)\n",
        "  plt.imshow(image[i])\n",
        "  plt.title(\"pred:\"+str(pred[i]))\n",
        "  plt.axis('off')\n",
        "plt.show()"
      ]
    }
  ],
  "metadata": {
    "colab": {
      "name": "Lab 1 DNN Deployment.ipynb",
      "provenance": []
    },
    "kernelspec": {
      "display_name": "Python 3.9.15 ('base')",
      "language": "python",
      "name": "python3"
    },
    "language_info": {
      "codemirror_mode": {
        "name": "ipython",
        "version": 3
      },
      "file_extension": ".py",
      "mimetype": "text/x-python",
      "name": "python",
      "nbconvert_exporter": "python",
      "pygments_lexer": "ipython3",
      "version": "3.9.15"
    },
    "vscode": {
      "interpreter": {
        "hash": "e574baa9aadd583871525d68260513004deff55fabbc34c390892c253df4f7db"
      }
    }
  },
  "nbformat": 4,
  "nbformat_minor": 0
}
